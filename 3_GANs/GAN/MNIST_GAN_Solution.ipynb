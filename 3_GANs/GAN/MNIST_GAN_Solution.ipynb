{
 "cells": [
  {
   "cell_type": "markdown",
   "metadata": {},
   "source": [
    "# Generative Adversarial Network\n",
    "\n",
    "In this notebook, we'll be building a generative adversarial network (GAN) trained on the MNIST dataset. From this, we'll be able to generate new handwritten digits!\n",
    "\n",
    "GANs were [first reported on](https://arxiv.org/abs/1406.2661) in 2014 from Ian Goodfellow and others in Yoshua Bengio's lab. Since then, GANs have exploded in popularity. Here are a few examples to check out:\n",
    "\n",
    "* [Pix2Pix](https://affinelayer.com/pixsrv/) \n",
    "* [CycleGAN & Pix2Pix in PyTorch, Jun-Yan Zhu](https://github.com/junyanz/pytorch-CycleGAN-and-pix2pix)\n",
    "* [A list of generative models](https://github.com/wiseodd/generative-models)\n",
    "\n",
    "The idea behind GANs is that you have two networks, a generator $G$ and a discriminator $D$, competing against each other. The generator makes \"fake\" data to pass to the discriminator. The discriminator also sees real training data and predicts if the data it's received is real or fake. \n",
    "> * The generator is trained to fool the discriminator, it wants to output data that looks _as close as possible_ to real, training data. \n",
    "* The discriminator is a classifier that is trained to figure out which data is real and which is fake. \n",
    "\n",
    "What ends up happening is that the generator learns to make data that is indistinguishable from real data to the discriminator.\n",
    "\n",
    "<img src='assets/gan_pipeline.png' width=70% />\n",
    "\n",
    "The general structure of a GAN is shown in the diagram above, using MNIST images as data. The latent sample is a random vector that the generator uses to construct its fake images. This is often called a **latent vector** and that vector space is called **latent space**. As the generator trains, it figures out how to map latent vectors to recognizable images that can fool the discriminator.\n",
    "\n",
    "If you're interested in generating only new images, you can throw out the discriminator after training. In this notebook, I'll show you how to define and train these adversarial networks in PyTorch and generate new images!"
   ]
  },
  {
   "cell_type": "code",
   "execution_count": 2,
   "metadata": {},
   "outputs": [],
   "source": [
    "%matplotlib inline\n",
    "\n",
    "import numpy as np\n",
    "import torch\n",
    "import matplotlib.pyplot as plt"
   ]
  },
  {
   "cell_type": "code",
   "execution_count": 3,
   "metadata": {},
   "outputs": [],
   "source": [
    "from torchvision import datasets\n",
    "import torchvision.transforms as transforms\n",
    "\n",
    "# number of subprocesses to use for data loading\n",
    "num_workers = 0\n",
    "# how many samples per batch to load\n",
    "batch_size = 64\n",
    "\n",
    "# convert data to torch.FloatTensor\n",
    "transform = transforms.ToTensor()\n",
    "\n",
    "# get the training datasets\n",
    "train_data = datasets.MNIST(root='data', train=True,\n",
    "                                   download=True, transform=transform)\n",
    "\n",
    "# prepare data loader\n",
    "train_loader = torch.utils.data.DataLoader(train_data, batch_size=batch_size,\n",
    "                                           num_workers=num_workers)"
   ]
  },
  {
   "cell_type": "markdown",
   "metadata": {},
   "source": [
    "### Visualize the data"
   ]
  },
  {
   "cell_type": "code",
   "execution_count": 4,
   "metadata": {},
   "outputs": [
    {
     "data": {
      "text/plain": [
       "<matplotlib.image.AxesImage at 0x7f00a9ee5390>"
      ]
     },
     "execution_count": 4,
     "metadata": {},
     "output_type": "execute_result"
    },
    {
     "data": {
      "image/png": "[encoded data removed]",
      "text/plain": [
       "<matplotlib.figure.Figure at 0x7f00a9fa0e10>"
      ]
     },
     "metadata": {
      "needs_background": "light"
     },
     "output_type": "display_data"
    }
   ],
   "source": [
    "# obtain one batch of training images\n",
    "dataiter = iter(train_loader)\n",
    "images, labels = dataiter.next()\n",
    "images = images.numpy()\n",
    "\n",
    "# get one image from the batch\n",
    "img = np.squeeze(images[0])\n",
    "\n",
    "fig = plt.figure(figsize = (3,3)) \n",
    "ax = fig.add_subplot(111)\n",
    "ax.imshow(img, cmap='gray')"
   ]
  },
  {
   "cell_type": "markdown",
   "metadata": {},
   "source": [
    "---\n",
    "# Define the Model\n",
    "\n",
    "A GAN is comprised of two adversarial networks, a discriminator and a generator."
   ]
  },
  {
   "cell_type": "markdown",
   "metadata": {},
   "source": [
    "## Discriminator\n",
    "\n",
    "The discriminator network is going to be a pretty typical linear classifier. To make this network a universal function approximator, we'll need at least one hidden layer, and these hidden layers should have one key attribute:\n",
    "> All hidden layers will have a [Leaky ReLu](https://pytorch.org/docs/stable/nn.html#torch.nn.LeakyReLU) activation function applied to their outputs.\n",
    "\n",
    "<img src='assets/gan_network.png' width=70% />\n",
    "\n",
    "#### Leaky ReLu\n",
    "\n",
    "We should use a leaky ReLU to allow gradients to flow backwards through the layer unimpeded. A leaky ReLU is like a normal ReLU, except that there is a small non-zero output for negative input values.\n",
    "\n",
    "<img src='assets/leaky_relu.png' width=40% />\n",
    "\n",
    "#### Sigmoid Output\n",
    "\n",
    "We'll also take the approach of using a more numerically stable loss function on the outputs. Recall that we want the discriminator to output a value 0-1 indicating whether an image is _real or fake_. \n",
    "> We will ultimately use [BCEWithLogitsLoss](https://pytorch.org/docs/stable/nn.html#bcewithlogitsloss), which combines a `sigmoid` activation function **and** and binary cross entropy loss in one function. \n",
    "\n",
    "So, our final output layer should not have any activation function applied to it."
   ]
  },
  {
   "cell_type": "code",
   "execution_count": 5,
   "metadata": {},
   "outputs": [],
   "source": [
    "import torch.nn as nn\n",
    "import torch.nn.functional as F\n",
    "\n",
    "class Discriminator(nn.Module):\n",
    "\n",
    "    def __init__(self, input_size, hidden_dim, output_size):\n",
    "        super(Discriminator, self).__init__()\n",
    "        \n",
    "        # define hidden linear layers\n",
    "        self.fc1 = nn.Linear(input_size, hidden_dim*4)\n",
    "        self.fc2 = nn.Linear(hidden_dim*4, hidden_dim*2)\n",
    "        self.fc3 = nn.Linear(hidden_dim*2, hidden_dim)\n",
    "        \n",
    "        # final fully-connected layer\n",
    "        self.fc4 = nn.Linear(hidden_dim, output_size)\n",
    "        \n",
    "        # dropout layer \n",
    "        self.dropout = nn.Dropout(0.3)\n",
    "        \n",
    "        \n",
    "    def forward(self, x):\n",
    "        # flatten image\n",
    "        x = x.view(-1, 28*28)\n",
    "        # all hidden layers\n",
    "        x = F.leaky_relu(self.fc1(x), 0.2) # (input, negative_slope=0.2)\n",
    "        x = self.dropout(x)\n",
    "        x = F.leaky_relu(self.fc2(x), 0.2)\n",
    "        x = self.dropout(x)\n",
    "        x = F.leaky_relu(self.fc3(x), 0.2)\n",
    "        x = self.dropout(x)\n",
    "        # final layer\n",
    "        out = self.fc4(x)\n",
    "\n",
    "        return out\n"
   ]
  },
  {
   "cell_type": "markdown",
   "metadata": {},
   "source": [
    "## Generator\n",
    "\n",
    "The generator network will be almost exactly the same as the discriminator network, except that we're applying a [tanh activation function](https://pytorch.org/docs/stable/nn.html#tanh) to our output layer.\n",
    "\n",
    "#### tanh Output\n",
    "The generator has been found to perform the best with $tanh$ for the generator output, which scales the output to be between -1 and 1, instead of 0 and 1. \n",
    "\n",
    "<img src='assets/tanh_fn.png' width=40% />\n",
    "\n",
    "Recall that we also want these outputs to be comparable to the *real* input pixel values, which are read in as normalized values between 0 and 1. \n",
    "> So, we'll also have to **scale our real input images to have pixel values between -1 and 1** when we train the discriminator. \n",
    "\n",
    "I'll do this in the training loop, later on."
   ]
  },
  {
   "cell_type": "code",
   "execution_count": 6,
   "metadata": {},
   "outputs": [],
   "source": [
    "class Generator(nn.Module):\n",
    "\n",
    "    def __init__(self, input_size, hidden_dim, output_size):\n",
    "        super(Generator, self).__init__()\n",
    "        \n",
    "        # define hidden linear layers\n",
    "        self.fc1 = nn.Linear(input_size, hidden_dim)\n",
    "        self.fc2 = nn.Linear(hidden_dim, hidden_dim*2)\n",
    "        self.fc3 = nn.Linear(hidden_dim*2, hidden_dim*4)\n",
    "        \n",
    "        # final fully-connected layer\n",
    "        self.fc4 = nn.Linear(hidden_dim*4, output_size)\n",
    "        \n",
    "        # dropout layer \n",
    "        self.dropout = nn.Dropout(0.3)\n",
    "\n",
    "    def forward(self, x):\n",
    "        # all hidden layers\n",
    "        x = F.leaky_relu(self.fc1(x), 0.2) # (input, negative_slope=0.2)\n",
    "        x = self.dropout(x)\n",
    "        x = F.leaky_relu(self.fc2(x), 0.2)\n",
    "        x = self.dropout(x)\n",
    "        x = F.leaky_relu(self.fc3(x), 0.2)\n",
    "        x = self.dropout(x)\n",
    "        # final layer with tanh applied\n",
    "        out = F.tanh(self.fc4(x))\n",
    "\n",
    "        return out"
   ]
  },
  {
   "cell_type": "markdown",
   "metadata": {},
   "source": [
    "## Model hyperparameters"
   ]
  },
  {
   "cell_type": "code",
   "execution_count": 7,
   "metadata": {},
   "outputs": [],
   "source": [
    "# Discriminator hyperparams\n",
    "\n",
    "# Size of input image to discriminator (28*28)\n",
    "input_size = 784\n",
    "# Size of discriminator output (real or fake)\n",
    "d_output_size = 1\n",
    "# Size of last hidden layer in the discriminator\n",
    "d_hidden_size = 32\n",
    "\n",
    "# Generator hyperparams\n",
    "\n",
    "# Size of latent vector to give to generator\n",
    "z_size = 100\n",
    "# Size of discriminator output (generated image)\n",
    "g_output_size = 784\n",
    "# Size of first hidden layer in the generator\n",
    "g_hidden_size = 32"
   ]
  },
  {
   "cell_type": "markdown",
   "metadata": {},
   "source": [
    "## Build complete network\n",
    "\n",
    "Now we're instantiating the discriminator and generator from the classes defined above. Make sure you've passed in the correct input arguments."
   ]
  },
  {
   "cell_type": "code",
   "execution_count": 8,
   "metadata": {},
   "outputs": [
    {
     "name": "stdout",
     "output_type": "stream",
     "text": [
      "Discriminator(\n",
      "  (fc1): Linear(in_features=784, out_features=128, bias=True)\n",
      "  (fc2): Linear(in_features=128, out_features=64, bias=True)\n",
      "  (fc3): Linear(in_features=64, out_features=32, bias=True)\n",
      "  (fc4): Linear(in_features=32, out_features=1, bias=True)\n",
      "  (dropout): Dropout(p=0.3)\n",
      ")\n",
      "\n",
      "Generator(\n",
      "  (fc1): Linear(in_features=100, out_features=32, bias=True)\n",
      "  (fc2): Linear(in_features=32, out_features=64, bias=True)\n",
      "  (fc3): Linear(in_features=64, out_features=128, bias=True)\n",
      "  (fc4): Linear(in_features=128, out_features=784, bias=True)\n",
      "  (dropout): Dropout(p=0.3)\n",
      ")\n"
     ]
    }
   ],
   "source": [
    "# instantiate discriminator and generator\n",
    "D = Discriminator(input_size, d_hidden_size, d_output_size)\n",
    "G = Generator(z_size, g_hidden_size, g_output_size)\n",
    "\n",
    "# check that they are as you expect\n",
    "print(D)\n",
    "print()\n",
    "print(G)"
   ]
  },
  {
   "cell_type": "markdown",
   "metadata": {},
   "source": [
    "---\n",
    "## Discriminator and Generator Losses\n",
    "\n",
    "Now we need to calculate the losses. \n",
    "\n",
    "### Discriminator Losses\n",
    "\n",
    "> * For the discriminator, the total loss is the sum of the losses for real and fake images, `d_loss = d_real_loss + d_fake_loss`. \n",
    "* Remember that we want the discriminator to output 1 for real images and 0 for fake images, so we need to set up the losses to reflect that.\n",
    "\n",
    "<img src='assets/gan_pipeline.png' width=70% />\n",
    "\n",
    "The losses will by binary cross entropy loss with logits, which we can get with [BCEWithLogitsLoss](https://pytorch.org/docs/stable/nn.html#bcewithlogitsloss). This combines a `sigmoid` activation function **and** and binary cross entropy loss in one function.\n",
    "\n",
    "For the real images, we want `D(real_images) = 1`. That is, we want the discriminator to classify the the real images with a label = 1, indicating that these are real. To help the discriminator generalize better, the labels are **reduced a bit from 1.0 to 0.9**. For this, we'll use the parameter `smooth`; if True, then we should smooth our labels. In PyTorch, this looks like `labels = torch.ones(size) * 0.9`\n",
    "\n",
    "The discriminator loss for the fake data is similar. We want `D(fake_images) = 0`, where the fake images are the _generator output_, `fake_images = G(z)`. \n",
    "\n",
    "### Generator Loss\n",
    "\n",
    "The generator loss will look similar only with flipped labels. The generator's goal is to get `D(fake_images) = 1`. In this case, the labels are **flipped** to represent that the generator is trying to fool the discriminator into thinking that the images it generates (fakes) are real!"
   ]
  },
  {
   "cell_type": "code",
   "execution_count": 9,
   "metadata": {},
   "outputs": [],
   "source": [
    "# Calculate losses\n",
    "def real_loss(D_out, smooth=False):\n",
    "    batch_size = D_out.size(0)\n",
    "    # label smoothing\n",
    "    if smooth:\n",
    "        # smooth, real labels = 0.9\n",
    "        labels = torch.ones(batch_size)*0.9\n",
    "    else:\n",
    "        labels = torch.ones(batch_size) # real labels = 1\n",
    "        \n",
    "    # numerically stable loss\n",
    "    criterion = nn.BCEWithLogitsLoss()\n",
    "    # calculate loss\n",
    "    loss = criterion(D_out.squeeze(), labels)\n",
    "    return loss\n",
    "\n",
    "def fake_loss(D_out):\n",
    "    batch_size = D_out.size(0)\n",
    "    labels = torch.zeros(batch_size) # fake labels = 0\n",
    "    criterion = nn.BCEWithLogitsLoss()\n",
    "    # calculate loss\n",
    "    loss = criterion(D_out.squeeze(), labels)\n",
    "    return loss"
   ]
  },
  {
   "cell_type": "markdown",
   "metadata": {},
   "source": [
    "## Optimizers\n",
    "\n",
    "We want to update the generator and discriminator variables separately. So, we'll define two separate Adam optimizers."
   ]
  },
  {
   "cell_type": "code",
   "execution_count": 10,
   "metadata": {
    "scrolled": true
   },
   "outputs": [],
   "source": [
    "import torch.optim as optim\n",
    "\n",
    "# Optimizers\n",
    "lr = 0.002\n",
    "\n",
    "# Create optimizers for the discriminator and generator\n",
    "d_optimizer = optim.Adam(D.parameters(), lr)\n",
    "g_optimizer = optim.Adam(G.parameters(), lr)"
   ]
  },
  {
   "cell_type": "markdown",
   "metadata": {},
   "source": [
    "---\n",
    "## Training\n",
    "\n",
    "Training will involve alternating between training the discriminator and the generator. We'll use our functions `real_loss` and `fake_loss` to help us calculate the discriminator losses in all of the following cases.\n",
    "\n",
    "### Discriminator training\n",
    "1. Compute the discriminator loss on real, training images        \n",
    "2. Generate fake images\n",
    "3. Compute the discriminator loss on fake, generated images     \n",
    "4. Add up real and fake loss\n",
    "5. Perform backpropagation + an optimization step to update the discriminator's weights\n",
    "\n",
    "### Generator training\n",
    "1. Generate fake images\n",
    "2. Compute the discriminator loss on fake images, using **flipped** labels!\n",
    "3. Perform backpropagation + an optimization step to update the generator's weights\n",
    "\n",
    "#### Saving Samples\n",
    "\n",
    "As we train, we'll also print out some loss statistics and save some generated \"fake\" samples."
   ]
  },
  {
   "cell_type": "code",
   "execution_count": 12,
   "metadata": {
    "scrolled": true
   },
   "outputs": [
    {
     "name": "stdout",
     "output_type": "stream",
     "text": [
      "Epoch [    1/  100] | d_loss: 1.3700 | g_loss: 0.7305\n",
      "Epoch [    1/  100] | d_loss: 0.7256 | g_loss: 4.0247\n",
      "Epoch [    1/  100] | d_loss: 1.6018 | g_loss: 1.8864\n",
      "Epoch [    2/  100] | d_loss: 1.0670 | g_loss: 1.1936\n",
      "Epoch [    2/  100] | d_loss: 1.4162 | g_loss: 0.7109\n",
      "Epoch [    2/  100] | d_loss: 1.2417 | g_loss: 1.8443\n",
      "Epoch [    3/  100] | d_loss: 1.1517 | g_loss: 0.7828\n",
      "Epoch [    3/  100] | d_loss: 1.0834 | g_loss: 1.0565\n",
      "Epoch [    3/  100] | d_loss: 1.0998 | g_loss: 1.3801\n",
      "Epoch [    4/  100] | d_loss: 1.2379 | g_loss: 0.9531\n",
      "Epoch [    4/  100] | d_loss: 1.3631 | g_loss: 0.9369\n",
      "Epoch [    4/  100] | d_loss: 1.3251 | g_loss: 0.8952\n",
      "Epoch [    5/  100] | d_loss: 1.2990 | g_loss: 0.8824\n",
      "Epoch [    5/  100] | d_loss: 1.3046 | g_loss: 1.0554\n",
      "Epoch [    5/  100] | d_loss: 1.2531 | g_loss: 1.0405\n",
      "Epoch [    6/  100] | d_loss: 1.2322 | g_loss: 1.3221\n",
      "Epoch [    6/  100] | d_loss: 1.6146 | g_loss: 0.5952\n",
      "Epoch [    6/  100] | d_loss: 1.2084 | g_loss: 1.2855\n",
      "Epoch [    7/  100] | d_loss: 1.2661 | g_loss: 1.1144\n",
      "Epoch [    7/  100] | d_loss: 1.2364 | g_loss: 1.2993\n",
      "Epoch [    7/  100] | d_loss: 0.9228 | g_loss: 4.1896\n",
      "Epoch [    8/  100] | d_loss: 0.8830 | g_loss: 4.6045\n",
      "Epoch [    8/  100] | d_loss: 0.6961 | g_loss: 8.2117\n",
      "Epoch [    8/  100] | d_loss: 0.8022 | g_loss: 8.1354\n",
      "Epoch [    9/  100] | d_loss: 0.8356 | g_loss: 11.8820\n",
      "Epoch [    9/  100] | d_loss: 0.7177 | g_loss: 11.1676\n",
      "Epoch [    9/  100] | d_loss: 0.5447 | g_loss: 16.3396\n",
      "Epoch [   10/  100] | d_loss: 0.8209 | g_loss: 8.5856\n",
      "Epoch [   10/  100] | d_loss: 0.7521 | g_loss: 6.7526\n",
      "Epoch [   10/  100] | d_loss: 0.7169 | g_loss: 4.1816\n",
      "Epoch [   11/  100] | d_loss: 0.9999 | g_loss: 1.9019\n",
      "Epoch [   11/  100] | d_loss: 1.0635 | g_loss: 1.7107\n",
      "Epoch [   11/  100] | d_loss: 0.9990 | g_loss: 2.4995\n",
      "Epoch [   12/  100] | d_loss: 0.9725 | g_loss: 2.6157\n",
      "Epoch [   12/  100] | d_loss: 1.1370 | g_loss: 1.3961\n",
      "Epoch [   12/  100] | d_loss: 1.1948 | g_loss: 1.4307\n",
      "Epoch [   13/  100] | d_loss: 1.0922 | g_loss: 1.4734\n",
      "Epoch [   13/  100] | d_loss: 1.1149 | g_loss: 1.4314\n",
      "Epoch [   13/  100] | d_loss: 1.2396 | g_loss: 0.8625\n",
      "Epoch [   14/  100] | d_loss: 1.0549 | g_loss: 1.6061\n",
      "Epoch [   14/  100] | d_loss: 1.3039 | g_loss: 1.3805\n",
      "Epoch [   14/  100] | d_loss: 1.1848 | g_loss: 1.4467\n",
      "Epoch [   15/  100] | d_loss: 1.3136 | g_loss: 1.1431\n",
      "Epoch [   15/  100] | d_loss: 1.2095 | g_loss: 1.1722\n",
      "Epoch [   15/  100] | d_loss: 1.2435 | g_loss: 1.0751\n",
      "Epoch [   16/  100] | d_loss: 1.3479 | g_loss: 1.1517\n",
      "Epoch [   16/  100] | d_loss: 1.2640 | g_loss: 1.0504\n",
      "Epoch [   16/  100] | d_loss: 1.2801 | g_loss: 1.0301\n",
      "Epoch [   17/  100] | d_loss: 1.2069 | g_loss: 1.1049\n",
      "Epoch [   17/  100] | d_loss: 1.2438 | g_loss: 1.0762\n",
      "Epoch [   17/  100] | d_loss: 1.2515 | g_loss: 1.1547\n",
      "Epoch [   18/  100] | d_loss: 1.3043 | g_loss: 1.1858\n",
      "Epoch [   18/  100] | d_loss: 1.3372 | g_loss: 1.1071\n",
      "Epoch [   18/  100] | d_loss: 1.1922 | g_loss: 0.8909\n",
      "Epoch [   19/  100] | d_loss: 1.2996 | g_loss: 1.0129\n",
      "Epoch [   19/  100] | d_loss: 1.2489 | g_loss: 1.1022\n",
      "Epoch [   19/  100] | d_loss: 1.1725 | g_loss: 1.6303\n",
      "Epoch [   20/  100] | d_loss: 1.1703 | g_loss: 1.2006\n",
      "Epoch [   20/  100] | d_loss: 1.2796 | g_loss: 1.0685\n",
      "Epoch [   20/  100] | d_loss: 1.3060 | g_loss: 1.1298\n",
      "Epoch [   21/  100] | d_loss: 1.2694 | g_loss: 1.0387\n",
      "Epoch [   21/  100] | d_loss: 1.2005 | g_loss: 1.1560\n",
      "Epoch [   21/  100] | d_loss: 1.1833 | g_loss: 1.1715\n",
      "Epoch [   22/  100] | d_loss: 1.2664 | g_loss: 1.3206\n",
      "Epoch [   22/  100] | d_loss: 1.2041 | g_loss: 1.0536\n",
      "Epoch [   22/  100] | d_loss: 1.2594 | g_loss: 1.0006\n",
      "Epoch [   23/  100] | d_loss: 1.2983 | g_loss: 1.0575\n",
      "Epoch [   23/  100] | d_loss: 1.2480 | g_loss: 0.9378\n",
      "Epoch [   23/  100] | d_loss: 1.1038 | g_loss: 1.2835\n",
      "Epoch [   24/  100] | d_loss: 1.2031 | g_loss: 1.1756\n",
      "Epoch [   24/  100] | d_loss: 1.1756 | g_loss: 1.1890\n",
      "Epoch [   24/  100] | d_loss: 1.3912 | g_loss: 0.8909\n",
      "Epoch [   25/  100] | d_loss: 1.2945 | g_loss: 1.2243\n",
      "Epoch [   25/  100] | d_loss: 1.1937 | g_loss: 0.9403\n",
      "Epoch [   25/  100] | d_loss: 1.3680 | g_loss: 0.9536\n",
      "Epoch [   26/  100] | d_loss: 1.3199 | g_loss: 0.9596\n",
      "Epoch [   26/  100] | d_loss: 1.3313 | g_loss: 0.9224\n",
      "Epoch [   26/  100] | d_loss: 1.2831 | g_loss: 0.9522\n",
      "Epoch [   27/  100] | d_loss: 1.3224 | g_loss: 1.2726\n",
      "Epoch [   27/  100] | d_loss: 1.2905 | g_loss: 0.8694\n",
      "Epoch [   27/  100] | d_loss: 1.4180 | g_loss: 0.9748\n",
      "Epoch [   28/  100] | d_loss: 1.3400 | g_loss: 0.9662\n",
      "Epoch [   28/  100] | d_loss: 1.3109 | g_loss: 0.8805\n",
      "Epoch [   28/  100] | d_loss: 1.2995 | g_loss: 1.0134\n",
      "Epoch [   29/  100] | d_loss: 1.2735 | g_loss: 1.0242\n",
      "Epoch [   29/  100] | d_loss: 1.3579 | g_loss: 0.9922\n",
      "Epoch [   29/  100] | d_loss: 1.4188 | g_loss: 1.0010\n",
      "Epoch [   30/  100] | d_loss: 1.2954 | g_loss: 1.0947\n",
      "Epoch [   30/  100] | d_loss: 1.2092 | g_loss: 1.5180\n",
      "Epoch [   30/  100] | d_loss: 1.2804 | g_loss: 0.8157\n",
      "Epoch [   31/  100] | d_loss: 1.3627 | g_loss: 1.2478\n",
      "Epoch [   31/  100] | d_loss: 1.2790 | g_loss: 0.9671\n",
      "Epoch [   31/  100] | d_loss: 1.3740 | g_loss: 1.0590\n",
      "Epoch [   32/  100] | d_loss: 1.2803 | g_loss: 1.1434\n",
      "Epoch [   32/  100] | d_loss: 1.2076 | g_loss: 1.2579\n",
      "Epoch [   32/  100] | d_loss: 1.3943 | g_loss: 0.8656\n",
      "Epoch [   33/  100] | d_loss: 1.3056 | g_loss: 0.9008\n",
      "Epoch [   33/  100] | d_loss: 1.2840 | g_loss: 0.8638\n",
      "Epoch [   33/  100] | d_loss: 1.2201 | g_loss: 1.3823\n",
      "Epoch [   34/  100] | d_loss: 1.2951 | g_loss: 1.1856\n",
      "Epoch [   34/  100] | d_loss: 1.3128 | g_loss: 1.0334\n",
      "Epoch [   34/  100] | d_loss: 1.3780 | g_loss: 1.2832\n",
      "Epoch [   35/  100] | d_loss: 1.4302 | g_loss: 1.0315\n",
      "Epoch [   35/  100] | d_loss: 1.2678 | g_loss: 0.9681\n",
      "Epoch [   35/  100] | d_loss: 1.2841 | g_loss: 1.1393\n",
      "Epoch [   36/  100] | d_loss: 1.3252 | g_loss: 0.9077\n",
      "Epoch [   36/  100] | d_loss: 1.3652 | g_loss: 1.0426\n",
      "Epoch [   36/  100] | d_loss: 1.4584 | g_loss: 1.0959\n",
      "Epoch [   37/  100] | d_loss: 1.3154 | g_loss: 0.9436\n",
      "Epoch [   37/  100] | d_loss: 1.1528 | g_loss: 1.3735\n",
      "Epoch [   37/  100] | d_loss: 1.3089 | g_loss: 1.1074\n",
      "Epoch [   38/  100] | d_loss: 1.3280 | g_loss: 0.9428\n",
      "Epoch [   38/  100] | d_loss: 1.2684 | g_loss: 0.7431\n",
      "Epoch [   38/  100] | d_loss: 1.3619 | g_loss: 0.8089\n",
      "Epoch [   39/  100] | d_loss: 1.3132 | g_loss: 1.0117\n",
      "Epoch [   39/  100] | d_loss: 1.1853 | g_loss: 1.1924\n",
      "Epoch [   39/  100] | d_loss: 1.2386 | g_loss: 1.2122\n",
      "Epoch [   40/  100] | d_loss: 1.2498 | g_loss: 0.9996\n",
      "Epoch [   40/  100] | d_loss: 1.2733 | g_loss: 1.0288\n",
      "Epoch [   40/  100] | d_loss: 1.3471 | g_loss: 0.8238\n",
      "Epoch [   41/  100] | d_loss: 1.3558 | g_loss: 0.8634\n",
      "Epoch [   41/  100] | d_loss: 1.2856 | g_loss: 1.0255\n",
      "Epoch [   41/  100] | d_loss: 1.2599 | g_loss: 0.9615\n",
      "Epoch [   42/  100] | d_loss: 1.3219 | g_loss: 1.1119\n",
      "Epoch [   42/  100] | d_loss: 1.3575 | g_loss: 0.9598\n",
      "Epoch [   42/  100] | d_loss: 1.4111 | g_loss: 0.9529\n",
      "Epoch [   43/  100] | d_loss: 1.2780 | g_loss: 0.9594\n",
      "Epoch [   43/  100] | d_loss: 1.1980 | g_loss: 1.1005\n",
      "Epoch [   43/  100] | d_loss: 1.2939 | g_loss: 0.8806\n",
      "Epoch [   44/  100] | d_loss: 1.3682 | g_loss: 1.1657\n",
      "Epoch [   44/  100] | d_loss: 1.2568 | g_loss: 0.9878\n",
      "Epoch [   44/  100] | d_loss: 1.2808 | g_loss: 1.3615\n",
      "Epoch [   45/  100] | d_loss: 1.3597 | g_loss: 0.9384\n",
      "Epoch [   45/  100] | d_loss: 1.2597 | g_loss: 0.8196\n",
      "Epoch [   45/  100] | d_loss: 1.2867 | g_loss: 1.2904\n",
      "Epoch [   46/  100] | d_loss: 1.2825 | g_loss: 1.1854\n",
      "Epoch [   46/  100] | d_loss: 1.2574 | g_loss: 0.8592\n",
      "Epoch [   46/  100] | d_loss: 1.3116 | g_loss: 1.0138\n",
      "Epoch [   47/  100] | d_loss: 1.2436 | g_loss: 0.9863\n",
      "Epoch [   47/  100] | d_loss: 1.1920 | g_loss: 1.1793\n",
      "Epoch [   47/  100] | d_loss: 1.3472 | g_loss: 0.9503\n",
      "Epoch [   48/  100] | d_loss: 1.4445 | g_loss: 0.9345\n",
      "Epoch [   48/  100] | d_loss: 1.2342 | g_loss: 1.1797\n",
      "Epoch [   48/  100] | d_loss: 1.3237 | g_loss: 0.8473\n",
      "Epoch [   49/  100] | d_loss: 1.3085 | g_loss: 0.9088\n",
      "Epoch [   49/  100] | d_loss: 1.3933 | g_loss: 1.0778\n",
      "Epoch [   49/  100] | d_loss: 1.3600 | g_loss: 0.9164\n",
      "Epoch [   50/  100] | d_loss: 1.3728 | g_loss: 1.0753\n",
      "Epoch [   50/  100] | d_loss: 1.2427 | g_loss: 1.0955\n",
      "Epoch [   50/  100] | d_loss: 1.2602 | g_loss: 1.0739\n",
      "Epoch [   51/  100] | d_loss: 1.2247 | g_loss: 0.8870\n",
      "Epoch [   51/  100] | d_loss: 1.3063 | g_loss: 0.9915\n",
      "Epoch [   51/  100] | d_loss: 1.3158 | g_loss: 1.0849\n",
      "Epoch [   52/  100] | d_loss: 1.3162 | g_loss: 1.0927\n",
      "Epoch [   52/  100] | d_loss: 1.2937 | g_loss: 0.9493\n",
      "Epoch [   52/  100] | d_loss: 1.2279 | g_loss: 1.0143\n",
      "Epoch [   53/  100] | d_loss: 1.3190 | g_loss: 0.9020\n",
      "Epoch [   53/  100] | d_loss: 1.2359 | g_loss: 0.9092\n",
      "Epoch [   53/  100] | d_loss: 1.3590 | g_loss: 1.1049\n",
      "Epoch [   54/  100] | d_loss: 1.3074 | g_loss: 0.9137\n",
      "Epoch [   54/  100] | d_loss: 1.2773 | g_loss: 0.8974\n",
      "Epoch [   54/  100] | d_loss: 1.3480 | g_loss: 0.8537\n",
      "Epoch [   55/  100] | d_loss: 1.2943 | g_loss: 1.1158\n",
      "Epoch [   55/  100] | d_loss: 1.3628 | g_loss: 0.9452\n",
      "Epoch [   55/  100] | d_loss: 1.6655 | g_loss: 0.8980\n",
      "Epoch [   56/  100] | d_loss: 1.2731 | g_loss: 0.8825\n",
      "Epoch [   56/  100] | d_loss: 1.2527 | g_loss: 1.2995\n",
      "Epoch [   56/  100] | d_loss: 1.4245 | g_loss: 0.9804\n",
      "Epoch [   57/  100] | d_loss: 1.2362 | g_loss: 0.9869\n",
      "Epoch [   57/  100] | d_loss: 1.2493 | g_loss: 1.1273\n",
      "Epoch [   57/  100] | d_loss: 1.4054 | g_loss: 0.9493\n",
      "Epoch [   58/  100] | d_loss: 1.3294 | g_loss: 0.8553\n",
      "Epoch [   58/  100] | d_loss: 1.2345 | g_loss: 1.2946\n",
      "Epoch [   58/  100] | d_loss: 1.3398 | g_loss: 1.0802\n",
      "Epoch [   59/  100] | d_loss: 1.2595 | g_loss: 0.8321\n",
      "Epoch [   59/  100] | d_loss: 1.3312 | g_loss: 1.0268\n",
      "Epoch [   59/  100] | d_loss: 1.3021 | g_loss: 1.1061\n",
      "Epoch [   60/  100] | d_loss: 1.3769 | g_loss: 1.0378\n",
      "Epoch [   60/  100] | d_loss: 1.3057 | g_loss: 1.1210\n",
      "Epoch [   60/  100] | d_loss: 1.3132 | g_loss: 0.9596\n",
      "Epoch [   61/  100] | d_loss: 1.2671 | g_loss: 1.0628\n",
      "Epoch [   61/  100] | d_loss: 1.3463 | g_loss: 1.0534\n",
      "Epoch [   61/  100] | d_loss: 1.3439 | g_loss: 0.8513\n",
      "Epoch [   62/  100] | d_loss: 1.2625 | g_loss: 0.9894\n",
      "Epoch [   62/  100] | d_loss: 1.3799 | g_loss: 1.0548\n",
      "Epoch [   62/  100] | d_loss: 1.3933 | g_loss: 0.9317\n",
      "Epoch [   63/  100] | d_loss: 1.1894 | g_loss: 1.0546\n",
      "Epoch [   63/  100] | d_loss: 1.3203 | g_loss: 1.0204\n",
      "Epoch [   63/  100] | d_loss: 1.3817 | g_loss: 1.0000\n",
      "Epoch [   64/  100] | d_loss: 1.3224 | g_loss: 0.8253\n",
      "Epoch [   64/  100] | d_loss: 1.2361 | g_loss: 1.1263\n",
      "Epoch [   64/  100] | d_loss: 1.3289 | g_loss: 0.8758\n",
      "Epoch [   65/  100] | d_loss: 1.1076 | g_loss: 1.7216\n",
      "Epoch [   65/  100] | d_loss: 1.3555 | g_loss: 1.0210\n",
      "Epoch [   65/  100] | d_loss: 1.3005 | g_loss: 1.1009\n",
      "Epoch [   66/  100] | d_loss: 1.3067 | g_loss: 1.2652\n",
      "Epoch [   66/  100] | d_loss: 1.1919 | g_loss: 0.9812\n",
      "Epoch [   66/  100] | d_loss: 1.3974 | g_loss: 0.9689\n",
      "Epoch [   67/  100] | d_loss: 1.3140 | g_loss: 0.9778\n",
      "Epoch [   67/  100] | d_loss: 1.1908 | g_loss: 1.3836\n",
      "Epoch [   67/  100] | d_loss: 1.2455 | g_loss: 1.1354\n",
      "Epoch [   68/  100] | d_loss: 1.3695 | g_loss: 1.0830\n",
      "Epoch [   68/  100] | d_loss: 1.3434 | g_loss: 0.8718\n",
      "Epoch [   68/  100] | d_loss: 1.2318 | g_loss: 1.0676\n",
      "Epoch [   69/  100] | d_loss: 1.3214 | g_loss: 1.0428\n",
      "Epoch [   69/  100] | d_loss: 1.2823 | g_loss: 0.8663\n",
      "Epoch [   69/  100] | d_loss: 1.3035 | g_loss: 1.0092\n",
      "Epoch [   70/  100] | d_loss: 1.2973 | g_loss: 0.8734\n",
      "Epoch [   70/  100] | d_loss: 1.3221 | g_loss: 1.1051\n",
      "Epoch [   70/  100] | d_loss: 1.3723 | g_loss: 0.9349\n",
      "Epoch [   71/  100] | d_loss: 1.2247 | g_loss: 1.1328\n",
      "Epoch [   71/  100] | d_loss: 1.2705 | g_loss: 0.9863\n",
      "Epoch [   71/  100] | d_loss: 1.2621 | g_loss: 0.9730\n",
      "Epoch [   72/  100] | d_loss: 1.2704 | g_loss: 0.9532\n",
      "Epoch [   72/  100] | d_loss: 1.1707 | g_loss: 1.0065\n",
      "Epoch [   72/  100] | d_loss: 1.2550 | g_loss: 1.3955\n",
      "Epoch [   73/  100] | d_loss: 1.2970 | g_loss: 0.9823\n",
      "Epoch [   73/  100] | d_loss: 1.2665 | g_loss: 0.9075\n",
      "Epoch [   73/  100] | d_loss: 1.3721 | g_loss: 1.0803\n",
      "Epoch [   74/  100] | d_loss: 1.2790 | g_loss: 1.1389\n",
      "Epoch [   74/  100] | d_loss: 1.3279 | g_loss: 0.9605\n",
      "Epoch [   74/  100] | d_loss: 1.2606 | g_loss: 1.0099\n",
      "Epoch [   75/  100] | d_loss: 1.2322 | g_loss: 1.0698\n",
      "Epoch [   75/  100] | d_loss: 1.2086 | g_loss: 1.1962\n",
      "Epoch [   75/  100] | d_loss: 1.3713 | g_loss: 1.0879\n",
      "Epoch [   76/  100] | d_loss: 1.1299 | g_loss: 1.2003\n",
      "Epoch [   76/  100] | d_loss: 1.3541 | g_loss: 0.9126\n",
      "Epoch [   76/  100] | d_loss: 1.3170 | g_loss: 0.9379\n",
      "Epoch [   77/  100] | d_loss: 1.3180 | g_loss: 1.4120\n",
      "Epoch [   77/  100] | d_loss: 1.2612 | g_loss: 0.8162\n",
      "Epoch [   77/  100] | d_loss: 1.3499 | g_loss: 1.0533\n",
      "Epoch [   78/  100] | d_loss: 1.3408 | g_loss: 0.7624\n",
      "Epoch [   78/  100] | d_loss: 1.1920 | g_loss: 1.1774\n",
      "Epoch [   78/  100] | d_loss: 1.3489 | g_loss: 0.9855\n",
      "Epoch [   79/  100] | d_loss: 1.3280 | g_loss: 0.9668\n",
      "Epoch [   79/  100] | d_loss: 1.2020 | g_loss: 0.9650\n",
      "Epoch [   79/  100] | d_loss: 1.2615 | g_loss: 1.0328\n",
      "Epoch [   80/  100] | d_loss: 1.3633 | g_loss: 1.0379\n",
      "Epoch [   80/  100] | d_loss: 1.2714 | g_loss: 1.0835\n",
      "Epoch [   80/  100] | d_loss: 1.4133 | g_loss: 1.1453\n",
      "Epoch [   81/  100] | d_loss: 1.4054 | g_loss: 1.1743\n",
      "Epoch [   81/  100] | d_loss: 1.2716 | g_loss: 0.8614\n",
      "Epoch [   81/  100] | d_loss: 1.4244 | g_loss: 0.9665\n",
      "Epoch [   82/  100] | d_loss: 1.3102 | g_loss: 1.0466\n",
      "Epoch [   82/  100] | d_loss: 1.2639 | g_loss: 1.0779\n",
      "Epoch [   82/  100] | d_loss: 1.3387 | g_loss: 1.0079\n",
      "Epoch [   83/  100] | d_loss: 1.2876 | g_loss: 1.3720\n",
      "Epoch [   83/  100] | d_loss: 1.2916 | g_loss: 1.0508\n",
      "Epoch [   83/  100] | d_loss: 1.2758 | g_loss: 1.1143\n",
      "Epoch [   84/  100] | d_loss: 1.2610 | g_loss: 0.8928\n",
      "Epoch [   84/  100] | d_loss: 1.2734 | g_loss: 1.2229\n",
      "Epoch [   84/  100] | d_loss: 1.3637 | g_loss: 0.9523\n",
      "Epoch [   85/  100] | d_loss: 1.3155 | g_loss: 1.1246\n",
      "Epoch [   85/  100] | d_loss: 1.3552 | g_loss: 0.8953\n",
      "Epoch [   85/  100] | d_loss: 1.2136 | g_loss: 1.1881\n",
      "Epoch [   86/  100] | d_loss: 1.2972 | g_loss: 1.1713\n",
      "Epoch [   86/  100] | d_loss: 1.2350 | g_loss: 0.9317\n",
      "Epoch [   86/  100] | d_loss: 1.4364 | g_loss: 0.8871\n",
      "Epoch [   87/  100] | d_loss: 1.1964 | g_loss: 1.3856\n",
      "Epoch [   87/  100] | d_loss: 1.2827 | g_loss: 1.0777\n",
      "Epoch [   87/  100] | d_loss: 1.3203 | g_loss: 0.8615\n",
      "Epoch [   88/  100] | d_loss: 1.2661 | g_loss: 0.9535\n",
      "Epoch [   88/  100] | d_loss: 1.3494 | g_loss: 1.2014\n",
      "Epoch [   88/  100] | d_loss: 1.4180 | g_loss: 1.0148\n",
      "Epoch [   89/  100] | d_loss: 1.2654 | g_loss: 1.0828\n",
      "Epoch [   89/  100] | d_loss: 1.2633 | g_loss: 1.0338\n",
      "Epoch [   89/  100] | d_loss: 1.4086 | g_loss: 0.9206\n",
      "Epoch [   90/  100] | d_loss: 1.1992 | g_loss: 2.3016\n",
      "Epoch [   90/  100] | d_loss: 1.2253 | g_loss: 1.0847\n",
      "Epoch [   90/  100] | d_loss: 1.3622 | g_loss: 1.1027\n",
      "Epoch [   91/  100] | d_loss: 1.3839 | g_loss: 1.1986\n",
      "Epoch [   91/  100] | d_loss: 1.2492 | g_loss: 1.0783\n",
      "Epoch [   91/  100] | d_loss: 1.4732 | g_loss: 1.2370\n",
      "Epoch [   92/  100] | d_loss: 1.3590 | g_loss: 1.0242\n",
      "Epoch [   92/  100] | d_loss: 1.2319 | g_loss: 1.0395\n",
      "Epoch [   92/  100] | d_loss: 1.3514 | g_loss: 1.0496\n",
      "Epoch [   93/  100] | d_loss: 1.2711 | g_loss: 1.0590\n",
      "Epoch [   93/  100] | d_loss: 1.2228 | g_loss: 1.0623\n",
      "Epoch [   93/  100] | d_loss: 1.3820 | g_loss: 1.0923\n",
      "Epoch [   94/  100] | d_loss: 1.3383 | g_loss: 0.9879\n",
      "Epoch [   94/  100] | d_loss: 1.2568 | g_loss: 0.9280\n",
      "Epoch [   94/  100] | d_loss: 1.4171 | g_loss: 1.0161\n",
      "Epoch [   95/  100] | d_loss: 1.3181 | g_loss: 1.1088\n",
      "Epoch [   95/  100] | d_loss: 1.1509 | g_loss: 0.9974\n",
      "Epoch [   95/  100] | d_loss: 1.3835 | g_loss: 0.9892\n",
      "Epoch [   96/  100] | d_loss: 1.1621 | g_loss: 1.4228\n",
      "Epoch [   96/  100] | d_loss: 1.2515 | g_loss: 1.0808\n",
      "Epoch [   96/  100] | d_loss: 1.3291 | g_loss: 0.9630\n",
      "Epoch [   97/  100] | d_loss: 1.4140 | g_loss: 1.2190\n",
      "Epoch [   97/  100] | d_loss: 1.2474 | g_loss: 1.2098\n",
      "Epoch [   97/  100] | d_loss: 1.2745 | g_loss: 0.9494\n",
      "Epoch [   98/  100] | d_loss: 1.3991 | g_loss: 0.9328\n",
      "Epoch [   98/  100] | d_loss: 1.1732 | g_loss: 1.2995\n",
      "Epoch [   98/  100] | d_loss: 1.3031 | g_loss: 1.0291\n",
      "Epoch [   99/  100] | d_loss: 1.3084 | g_loss: 0.9980\n",
      "Epoch [   99/  100] | d_loss: 1.2775 | g_loss: 1.0307\n",
      "Epoch [   99/  100] | d_loss: 1.3661 | g_loss: 0.8911\n",
      "Epoch [  100/  100] | d_loss: 1.2898 | g_loss: 1.1570\n",
      "Epoch [  100/  100] | d_loss: 1.2703 | g_loss: 0.9712\n",
      "Epoch [  100/  100] | d_loss: 1.3816 | g_loss: 0.9543\n"
     ]
    }
   ],
   "source": [
    "import pickle as pkl\n",
    "\n",
    "# training hyperparams\n",
    "num_epochs = 100\n",
    "\n",
    "# keep track of loss and generated, \"fake\" samples\n",
    "samples = []\n",
    "losses = []\n",
    "\n",
    "print_every = 400\n",
    "\n",
    "# Get some fixed data for sampling. These are images that are held\n",
    "# constant throughout training, and allow us to inspect the model's performance\n",
    "sample_size=16\n",
    "fixed_z = np.random.uniform(-1, 1, size=(sample_size, z_size))\n",
    "fixed_z = torch.from_numpy(fixed_z).float()\n",
    "\n",
    "# train the network\n",
    "D.train()\n",
    "G.train()\n",
    "for epoch in range(num_epochs):\n",
    "    \n",
    "    for batch_i, (real_images, _) in enumerate(train_loader):\n",
    "                \n",
    "        batch_size = real_images.size(0)\n",
    "        \n",
    "        ## Important rescaling step ## \n",
    "        real_images = real_images*2 - 1  # rescale input images from [0,1) to [-1, 1)\n",
    "        \n",
    "        # ============================================\n",
    "        #            TRAIN THE DISCRIMINATOR\n",
    "        # ============================================\n",
    "        \n",
    "        d_optimizer.zero_grad()\n",
    "        \n",
    "        # 1. Train with real images\n",
    "\n",
    "        # Compute the discriminator losses on real images \n",
    "        # smooth the real labels\n",
    "        D_real = D(real_images)\n",
    "        d_real_loss = real_loss(D_real, smooth=True)\n",
    "        \n",
    "        # 2. Train with fake images\n",
    "        \n",
    "        # Generate fake images\n",
    "        z = np.random.uniform(-1, 1, size=(batch_size, z_size))\n",
    "        z = torch.from_numpy(z).float()\n",
    "        fake_images = G(z)\n",
    "        \n",
    "        # Compute the discriminator losses on fake images        \n",
    "        D_fake = D(fake_images)\n",
    "        d_fake_loss = fake_loss(D_fake)\n",
    "        \n",
    "        # add up loss and perform backprop\n",
    "        d_loss = d_real_loss + d_fake_loss\n",
    "        d_loss.backward()\n",
    "        d_optimizer.step()\n",
    "        \n",
    "        \n",
    "        # =========================================\n",
    "        #            TRAIN THE GENERATOR\n",
    "        # =========================================\n",
    "        g_optimizer.zero_grad()\n",
    "        \n",
    "        # 1. Train with fake images and flipped labels\n",
    "        \n",
    "        # Generate fake images\n",
    "        z = np.random.uniform(-1, 1, size=(batch_size, z_size))\n",
    "        z = torch.from_numpy(z).float()\n",
    "        fake_images = G(z)\n",
    "        \n",
    "        # Compute the discriminator losses on fake images \n",
    "        # using flipped labels!\n",
    "        D_fake = D(fake_images)\n",
    "        g_loss = real_loss(D_fake) # use real loss to flip labels\n",
    "        \n",
    "        # perform backprop\n",
    "        g_loss.backward()\n",
    "        g_optimizer.step()\n",
    "\n",
    "        # Print some loss stats\n",
    "        if batch_i % print_every == 0:\n",
    "            # print discriminator and generator loss\n",
    "            print('Epoch [{:5d}/{:5d}] | d_loss: {:6.4f} | g_loss: {:6.4f}'.format(\n",
    "                    epoch+1, num_epochs, d_loss.item(), g_loss.item()))\n",
    "\n",
    "    \n",
    "    ## AFTER EACH EPOCH##\n",
    "    # append discriminator loss and generator loss\n",
    "    losses.append((d_loss.item(), g_loss.item()))\n",
    "    \n",
    "    # generate and save sample, fake images\n",
    "    G.eval() # eval mode for generating samples\n",
    "    samples_z = G(fixed_z)\n",
    "    samples.append(samples_z)\n",
    "    G.train() # back to train mode\n",
    "\n",
    "\n",
    "# Save training generator samples\n",
    "with open('train_samples.pkl', 'wb') as f:\n",
    "    pkl.dump(samples, f)"
   ]
  },
  {
   "cell_type": "markdown",
   "metadata": {},
   "source": [
    "## Training loss\n",
    "\n",
    "Here we'll plot the training losses for the generator and discriminator, recorded after each epoch."
   ]
  },
  {
   "cell_type": "code",
   "execution_count": 13,
   "metadata": {},
   "outputs": [
    {
     "data": {
      "text/plain": [
       "<matplotlib.legend.Legend at 0x7f00a51cd4a8>"
      ]
     },
     "execution_count": 13,
     "metadata": {},
     "output_type": "execute_result"
    },
    {
     "data": {
      "image/png": "[encoded data removed]",
      "text/plain": [
       "<matplotlib.figure.Figure at 0x7f00a9f745c0>"
      ]
     },
     "metadata": {
      "needs_background": "light"
     },
     "output_type": "display_data"
    }
   ],
   "source": [
    "fig, ax = plt.subplots()\n",
    "losses = np.array(losses)\n",
    "plt.plot(losses.T[0], label='Discriminator')\n",
    "plt.plot(losses.T[1], label='Generator')\n",
    "plt.title(\"Training Losses\")\n",
    "plt.legend()"
   ]
  },
  {
   "cell_type": "markdown",
   "metadata": {},
   "source": [
    "## Generator samples from training\n",
    "\n",
    "Here we can view samples of images from the generator. First we'll look at the images we saved during training."
   ]
  },
  {
   "cell_type": "code",
   "execution_count": 12,
   "metadata": {
    "collapsed": true
   },
   "outputs": [],
   "source": [
    "# helper function for viewing a list of passed in sample images\n",
    "def view_samples(epoch, samples):\n",
    "    fig, axes = plt.subplots(figsize=(7,7), nrows=4, ncols=4, sharey=True, sharex=True)\n",
    "    for ax, img in zip(axes.flatten(), samples[epoch]):\n",
    "        img = img.detach()\n",
    "        ax.xaxis.set_visible(False)\n",
    "        ax.yaxis.set_visible(False)\n",
    "        im = ax.imshow(img.reshape((28,28)), cmap='Greys_r')"
   ]
  },
  {
   "cell_type": "code",
   "execution_count": 13,
   "metadata": {
    "collapsed": true
   },
   "outputs": [],
   "source": [
    "# Load samples from generator, taken while training\n",
    "with open('train_samples.pkl', 'rb') as f:\n",
    "    samples = pkl.load(f)"
   ]
  },
  {
   "cell_type": "markdown",
   "metadata": {},
   "source": [
    "These are samples from the final training epoch. You can see the generator is able to reproduce numbers like 1, 7, 3, 2. Since this is just a sample, it isn't representative of the full range of images this generator can make."
   ]
  },
  {
   "cell_type": "code",
   "execution_count": 14,
   "metadata": {},
   "outputs": [
    {
     "data": {
      "image/png": "[encoded data removed]",
      "text/plain": [
       "<Figure size 504x504 with 16 Axes>"
      ]
     },
     "metadata": {},
     "output_type": "display_data"
    }
   ],
   "source": [
    "# -1 indicates final epoch's samples (the last in the list)\n",
    "view_samples(-1, samples)"
   ]
  },
  {
   "cell_type": "markdown",
   "metadata": {},
   "source": [
    "Below I'm showing the generated images as the network was training, every 10 epochs."
   ]
  },
  {
   "cell_type": "code",
   "execution_count": 15,
   "metadata": {},
   "outputs": [
    {
     "data": {
      "image/png": "[encoded data removed]",
      "text/plain": [
       "<Figure size 504x864 with 60 Axes>"
      ]
     },
     "metadata": {},
     "output_type": "display_data"
    }
   ],
   "source": [
    "rows = 10 # split epochs into 10, so 100/10 = every 10 epochs\n",
    "cols = 6\n",
    "fig, axes = plt.subplots(figsize=(7,12), nrows=rows, ncols=cols, sharex=True, sharey=True)\n",
    "\n",
    "for sample, ax_row in zip(samples[::int(len(samples)/rows)], axes):\n",
    "    for img, ax in zip(sample[::int(len(sample)/cols)], ax_row):\n",
    "        img = img.detach()\n",
    "        ax.imshow(img.reshape((28,28)), cmap='Greys_r')\n",
    "        ax.xaxis.set_visible(False)\n",
    "        ax.yaxis.set_visible(False)"
   ]
  },
  {
   "cell_type": "markdown",
   "metadata": {},
   "source": [
    "It starts out as all noise. Then it learns to make only the center white and the rest black. You can start to see some number like structures appear out of the noise like 1s and 9s."
   ]
  },
  {
   "cell_type": "markdown",
   "metadata": {},
   "source": [
    "## Sampling from the generator\n",
    "\n",
    "We can also get completely new images from the generator by using the checkpoint we saved after training. **We just need to pass in a new latent vector $z$ and we'll get new samples**!"
   ]
  },
  {
   "cell_type": "code",
   "execution_count": 16,
   "metadata": {},
   "outputs": [
    {
     "data": {
      "image/png": "[encoded data removed]",
      "text/plain": [
       "<Figure size 504x504 with 16 Axes>"
      ]
     },
     "metadata": {},
     "output_type": "display_data"
    }
   ],
   "source": [
    "`# randomly generated, new latent vectors\n",
    "sample_size=16\n",
    "rand_z = np.random.uniform(-1, 1, size=(sample_size, z_size))\n",
    "rand_z = torch.from_numpy(rand_z).float()\n",
    "\n",
    "G.eval() # eval mode\n",
    "# generated samples\n",
    "rand_images = G(rand_z)\n",
    "\n",
    "# 0 indicates the first set of samples in the passed in list\n",
    "# and we only have one batch of samples, here\n",
    "view_samples(0, [rand_images])"
   ]
  }
 ],
 "metadata": {
  "kernelspec": {
   "display_name": "Python 3",
   "language": "python",
   "name": "python3"
  },
  "language_info": {
   "codemirror_mode": {
    "name": "ipython",
    "version": 3
   },
   "file_extension": ".py",
   "mimetype": "text/x-python",
   "name": "python",
   "nbconvert_exporter": "python",
   "pygments_lexer": "ipython3",
   "version": "3.6.3"
  }
 },
 "nbformat": 4,
 "nbformat_minor": 2
}
